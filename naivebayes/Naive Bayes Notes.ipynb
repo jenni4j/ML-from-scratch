{
 "cells": [
  {
   "cell_type": "markdown",
   "metadata": {},
   "source": [
    "## Naive Bayes"
   ]
  },
  {
   "cell_type": "markdown",
   "metadata": {},
   "source": [
    "- Idea here is to ask the classifier to give us a best guess about the class and assign a probability estimate to that best guess\n",
    "- Pros are that it works with a small amount of data and is able to handle multiple classes however it is quite sensitive to how the input data is prepared\n",
    "- Naive Bayes is actually a subset of Bayesian decision theory..."
   ]
  },
  {
   "cell_type": "markdown",
   "metadata": {},
   "source": [
    "__Bayesian Decision Theory__ <br>\n",
    "Let's say we have an equation for the probability of a piece of data belonging to Class 1: p1(x,y) and an equation for the data belonging to Class 2: p2(x,y). To classify a new measurement with features (x,y), we can use the below rules:\n",
    "- If p1(x,y) > p2(x,y), then the class is 1\n",
    "- If p2(x,y) > p1(x,y), then the class is 2\n",
    "\n",
    "That’s Bayesian decision theory in a nutshell: choosing the decision with the highest probability"
   ]
  },
  {
   "cell_type": "markdown",
   "metadata": {},
   "source": [
    "__Classifying with Conditional Probabilities__ <br>\n",
    "The two rules above don't tell the whole story however, the more precise version is:\n",
    "- If p1($c_{1}$|x,y) > p2($c_{2}$|x,y), then the class is 1\n",
    "- If p1($c_{2}$|x,y) > p2($c_{1}$|x,y), then the class is 2\n",
    "\n",
    "And we can use Bayes' rule to determine p($c_{i}$|x,y)"
   ]
  }
 ],
 "metadata": {
  "kernelspec": {
   "display_name": "Python 3",
   "language": "python",
   "name": "python3"
  },
  "language_info": {
   "codemirror_mode": {
    "name": "ipython",
    "version": 3
   },
   "file_extension": ".py",
   "mimetype": "text/x-python",
   "name": "python",
   "nbconvert_exporter": "python",
   "pygments_lexer": "ipython3",
   "version": "3.7.3"
  }
 },
 "nbformat": 4,
 "nbformat_minor": 2
}
