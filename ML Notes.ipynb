{
 "cells": [
  {
   "cell_type": "markdown",
   "metadata": {
    "collapsed": true
   },
   "source": [
    "## Basics"
   ]
  },
  {
   "cell_type": "markdown",
   "metadata": {},
   "source": [
    "###### Expert System: Example could be a bird classification system\n",
    "###### Features (Attributes): Four parts of a bird potential to measure (weight, wingspan, webbed feet or not, color of back)\n",
    "###### Instance (Training Example): A bird with its known features\n",
    "###### Training Set: Set of training examples used to train the ML algo\n",
    "###### Target Variable: What we're trying to predict with our ML algo, otherwise known as type of bird\n",
    "###### Test set vs Training set: Program is initially fed training examples, where the machine learning takes place. Then the test set is fed to the program. The target variable for each example from the test set isn't given to the program, and the program decides which class each example belongs to and is then compared to the predicted value, and we can get a sense of how accurate the algorithm is.\n",
    "###### Error rate: Example would be to add up # of times algo was wrong and divide by total number of tests given"
   ]
  },
  {
   "cell_type": "markdown",
   "metadata": {},
   "source": [
    "## Key Tasks"
   ]
  },
  {
   "cell_type": "markdown",
   "metadata": {},
   "source": [
    "###### Supervised Learning Tasks: Telling the algorithm what to predict (classification, regression, k-nearest neighbors, naive bayes, support vector machines, decision trees)\n",
    "###### Unsupervised Learning Tasks: No label or target value given for the data (clustering, density estimation)"
   ]
  }
 ],
 "metadata": {
  "kernelspec": {
   "display_name": "Python 3",
   "language": "python",
   "name": "python3"
  },
  "language_info": {
   "codemirror_mode": {
    "name": "ipython",
    "version": 3
   },
   "file_extension": ".py",
   "mimetype": "text/x-python",
   "name": "python",
   "nbconvert_exporter": "python",
   "pygments_lexer": "ipython3",
   "version": "3.6.1"
  }
 },
 "nbformat": 4,
 "nbformat_minor": 2
}
