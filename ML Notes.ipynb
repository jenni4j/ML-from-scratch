{
 "cells": [
  {
   "cell_type": "markdown",
   "metadata": {
    "collapsed": true
   },
   "source": [
    "## Basic Terms"
   ]
  },
  {
   "cell_type": "markdown",
   "metadata": {},
   "source": [
    "- __Expert System__: Example could be a bird classification system\n",
    "- __Features (Attributes)__: Four parts of a bird potential to measure (weight, wingspan, webbed feet or not, color of back)\n",
    "- __Instance (Training Example)__: A bird with its known features\n",
    "- __Training Set__: Set of training examples used to train the ML algo\n",
    "- __Target Variable__: What we're trying to predict with our ML algo, otherwise known as type of bird\n",
    "- __Test set vs Training set__: Program is initially fed training examples, where the machine learning takes place. Then the test set is fed to the program. The target variable for each example from the test set is given to the program and the program decides which class each example belongs to and is then compared to the predicted value, and we can get a sense of how accurate the algorithm is\n",
    "- __Error rate__: Example would be to add up # of times algo was wrong and divide by total number of tests given"
   ]
  },
  {
   "cell_type": "markdown",
   "metadata": {},
   "source": [
    "## Key Tasks"
   ]
  },
  {
   "cell_type": "markdown",
   "metadata": {},
   "source": [
    "- __Supervised Learning Tasks__: Telling the algorithm what to predict (classification, regression, k-nearest neighbors, naive bayes, support vector machines, decision trees)\n",
    "- __Unsupervised Learning Tasks__: No label or target value given for the data (clustering, density estimation)"
   ]
  }
 ],
 "metadata": {
  "kernelspec": {
   "display_name": "Python 3",
   "language": "python",
   "name": "python3"
  },
  "language_info": {
   "codemirror_mode": {
    "name": "ipython",
    "version": 3
   },
   "file_extension": ".py",
   "mimetype": "text/x-python",
   "name": "python",
   "nbconvert_exporter": "python",
   "pygments_lexer": "ipython3",
   "version": "3.7.3"
  }
 },
 "nbformat": 4,
 "nbformat_minor": 2
}
